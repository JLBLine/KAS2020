{
 "cells": [
  {
   "cell_type": "code",
   "execution_count": 6,
   "metadata": {
    "scrolled": true
   },
   "outputs": [
    {
     "name": "stdout",
     "output_type": "stream",
     "text": [
      "Current data shape (6252, 50, 39)\n",
      "Current central pixels 26 28\n",
      "RA, Dec values 59.55978342781352 -2.7468012235896784\n",
      "New data shape (6252, 11, 11)\n",
      "New central pixels 5 5\n"
     ]
    }
   ],
   "source": [
    "from astropy.io import fits\n",
    "import aplpy\n",
    "import matplotlib.pyplot as plt\n",
    "from astropy.wcs import WCS\n",
    "import numpy as np\n",
    "\n",
    "def crop_3D_fits(input_name, output_name, x, y,\n",
    "                crop_radius_pix):\n",
    "    '''Take a 3D spectral cube style FITS file and \n",
    "    crop around a given pixel (x,y) with a radius of \n",
    "    crop_radius_pix in pixel coords'''\n",
    "    with fits.open(input_name) as hdu:\n",
    "        data = hdu[1].data\n",
    "        header = hdu[1].header\n",
    "        current_wcs = WCS(header)\n",
    "        print('Current data shape',data.shape)\n",
    "\n",
    "        ##Find the current central pixel\n",
    "        current_central_pix1 = int(x)\n",
    "        current_central_pix2 = int(y)\n",
    "        \n",
    "        ##Find the RA/Dec of that pixel\n",
    "        cent_pix_ra, cent_pix_dec, _ = current_wcs.all_pix2world(current_central_pix1,\n",
    "                                                                    current_central_pix2, 0, 0)\n",
    "        print(\"Current central pixels\",current_central_pix1,current_central_pix2)\n",
    "        print(\"RA, Dec values\",cent_pix_ra, cent_pix_dec)\n",
    "        \n",
    "        ##Setup slicing levels\n",
    "        ##Remember slicing goes up to one below so stick\n",
    "        ##a + 1 on the upper values to be even about central pix\n",
    "        low1 = current_central_pix1 - crop_radius_pix\n",
    "        up1 = current_central_pix1 + crop_radius_pix + 1\n",
    "        \n",
    "        low2 = current_central_pix2 - crop_radius_pix\n",
    "        up2 = current_central_pix2 + crop_radius_pix + 1\n",
    "        \n",
    "        ##Make the cropped slice\n",
    "        cropped_data = data[:,low2:up2,low1:up1]\n",
    "        \n",
    "        ##Find the central pixel of the slice\n",
    "        new_central_pix1 = int(np.floor(cropped_data.shape[2]/2))\n",
    "        new_central_pix2 = int(np.floor(cropped_data.shape[1]/2))\n",
    "        \n",
    "        print(\"New data shape\",cropped_data.shape)\n",
    "        print(\"New central pixels\",new_central_pix1,new_central_pix2)\n",
    "        \n",
    "        ##Now we have to modify the current contents of the FITS\n",
    "        \n",
    "        ##This shows we have changed the length of these two axes\n",
    "        hdu[1].header['NAXIS1'] = cropped_data.shape[2]\n",
    "        hdu[1].header['NAXIS2'] = cropped_data.shape[1]\n",
    "        \n",
    "        ##This means we have changed the central pixel\n",
    "        ##FITS files are 1 indexed, NOT 0 indexed, so\n",
    "        ##need to add 1\n",
    "        hdu[1].header['CRPIX1'] = new_central_pix1\n",
    "        hdu[1].header['CRPIX2'] = new_central_pix2\n",
    "        \n",
    "        ##Have to make sure the RA/Dec value of the\n",
    "        ##new central pixel is correct\n",
    "        hdu[1].header['CRVAL1'] = float(cent_pix_ra)\n",
    "        hdu[1].header['CRVAL2'] = float(cent_pix_dec)\n",
    "        \n",
    "        ##Replace the data\n",
    "        hdu[1].data = cropped_data\n",
    "        ##write out the data to a new filename\n",
    "        hdu.writeto(output_name, overwrite=True)\n",
    "\n",
    "xpix = 26\n",
    "ypix = 28\n",
    "radius = 5\n",
    "        \n",
    "##Do the cropping\n",
    "crop_3D_fits('1009_629_2006A_individual_cubes_3D.fits',\n",
    "             'cropped_1009_629_2006A_individual_cubes_3D.fits',\n",
    "             xpix, ypix, radius)\n"
   ]
  }
 ],
 "metadata": {
  "kernelspec": {
   "display_name": "Python 3",
   "language": "python",
   "name": "python3"
  },
  "language_info": {
   "codemirror_mode": {
    "name": "ipython",
    "version": 3
   },
   "file_extension": ".py",
   "mimetype": "text/x-python",
   "name": "python",
   "nbconvert_exporter": "python",
   "pygments_lexer": "ipython3",
   "version": "3.8.5"
  }
 },
 "nbformat": 4,
 "nbformat_minor": 4
}
