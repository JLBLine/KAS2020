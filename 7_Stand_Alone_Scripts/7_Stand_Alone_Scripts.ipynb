{
 "cells": [
  {
   "cell_type": "markdown",
   "metadata": {},
   "source": [
    "# Stand Alone Scripts\n",
    "This week, we're going to do something a little different. As I have mentioned previously, `jupyter notebooks` are not the only way to run `python`. Notebooks are excellent for starting projects, as you can write down your thoughts and include equations relating to your analysis. For this reason they are also brilliant for sharing your research with others. However, if your codebase becomes large, a notebook can become cumbersome, especially if you want to repeat the analysis. At this point, it's better to write a `script`, which is basically a text file containing `python` code. We've seen them before, but this time we're going to write our own, with input options.\n",
    "\n",
    "If you can't remember how to run a `script`, go back to `1_Code_Structure` and revisit how you ran `python example_script.py`. How you did it will depend on your Operating System (OS), and how you installed python. As an alternative, it turns out there is a way to open up a `terminal` (where you can run command line operations) via a notebook. If you start where you normally open up a notebook, click new, there is an option `Terminal` at the bottom of the dropdown menu:\n",
    "\n",
    "![new_terminal.png](new_terminal.png)\n",
    "\n",
    "> Exactly what opens up depends on your OS, but on my windows machine, it opened up a `Powershell`. Inside that, I was able to use `bash` commands like `ls` and `cd`, just like on linux machines. Win!\n",
    "\n",
    "As with any terminal, you'll have to navigate to the `7_Stand_Alone_Scripts` directory to run the scripts we use/create.\n",
    "\n",
    "IN SAYING THAT, below, in a few boxes, I've included some magic commands:\n",
    "```\n",
    "%%bash\n",
    "```\n",
    "which on a linux/mac machine, should act like running a terminal inside the notebook. <font color='red'> If you are on a Windows machine, you MIGHT have to change `%%bash` to `%%cmd` </font>. Or you could copy and paste the commands into a terminal elsewhere. \n",
    "\n",
    "\n",
    "## Inputting arguments into python\n",
    "To interact with our scipt, we want to input arguments. As always, there are a few ways to do this, with the most basic being `sys.argv`, but I recommend using `argparse`, as it allows you create helpful messages for the user.\n",
    "\n",
    "First thing we'll look at is \n",
    "\n",
    "Open up `test_script1.py` with a text editor - it should look like this:\n",
    "\n",
    "```python\n",
    "import argparse\n",
    "\n",
    "##This sets up a parser, which can read inputs given at the command line\n",
    "parser = argparse.ArgumentParser(description='A test script to learn about argparse')\n",
    "\n",
    "##Here we add an argument called --message, and add a description of how\n",
    "##to use this argument via the 'help' keyword\n",
    "parser.add_argument('--message', help='Enter a message to be printed. If your \\\n",
    "                    message contains spaces, you must wrap your message in \\\n",
    "                    quotation marks like this: --message=\"how fun\"')\n",
    "\n",
    "##This grabs all of the arguments out of the parser. Now all the arguments\n",
    "##are attributes of args, which can access and use\n",
    "args = parser.parse_args()\n",
    "\n",
    "##message has become an attribute of args, so we can use it as we would\n",
    "##any other variable. If the user hasn't input --message on the command line,\n",
    "##args.message=None, so we can use it in a boolean test below\n",
    "if args.message:\n",
    "    print('Your message is: {:s}'.format(args.message))\n",
    "else:\n",
    "    print(\"You must enter some text via --message otherwise what's the point of me\")\n",
    "    \n",
    "```\n",
    "`argparse` does two nice things: 1) We can create bespoke inputs 2) An argument called `--help` is automatically added, which can explains all of the arguments a script can take. Let's play around with this toy example below.\n",
    "\n",
    "## <font color='blue'>Ex 7.1 </font>\n",
    "Run the three code blocks below to see how argparse behaves. Make sure you understand how the code is translating to the input/output on the command line. In the fourth code block, try inputting an argument that hasn't been defined, and see what argpase says."
   ]
  },
  {
   "cell_type": "code",
   "execution_count": null,
   "metadata": {},
   "outputs": [],
   "source": [
    "%%bash\n",
    "python test_script1.py --help"
   ]
  },
  {
   "cell_type": "code",
   "execution_count": null,
   "metadata": {},
   "outputs": [],
   "source": [
    "%%bash\n",
    "python test_script1.py --message=\"namaste\""
   ]
  },
  {
   "cell_type": "code",
   "execution_count": null,
   "metadata": {},
   "outputs": [],
   "source": [
    "%%bash\n",
    "python test_script1.py"
   ]
  },
  {
   "cell_type": "code",
   "execution_count": null,
   "metadata": {
    "scrolled": true
   },
   "outputs": [],
   "source": [
    "%%bash\n",
    "##The stuff in the red box is the actual command line error\n",
    "##All the other errors you see are because we are running the\n",
    "##command line inside a notebook so there is a layer of\n",
    "##abstraction going on\n"
   ]
  },
  {
   "cell_type": "markdown",
   "metadata": {},
   "source": [
    "## Getting a little fancier\n",
    "There are many cool things you can do with `argparse` (check out the [documentation here])(https://docs.python.org/3/library/argparse.html), but I'll showcase a couple of features here in `test_script2.py`. I'll also give you an introduction to how you can check the user has inputted something sensible, and how you can help the user by providing error messages. There is NOTHING more infuriating in coding that trying to run something and it fails without telling you why. You can make your own (and everyone else's) life far easier by setting up error checking in your code.\n",
    "\n",
    "Open up `test_script2.py` with a text editor (or an IDE if you like). Inside it you'll see these 3 arguments:\n",
    "\n",
    "```python\n",
    "##By setting 'type=int', we are requiring the input be an integer. If it\n",
    "##isn't, argparse will throw an error telling the user why\n",
    "parser.add_argument('--integer', type=int,\n",
    "    help='Enter an integer to square.')\n",
    "\n",
    "##By setting 'type=float', we are requiring the input be a float. If it\n",
    "##isn't, argparse will throw an error telling the user why\n",
    "parser.add_argument('--float', type=float,\n",
    "    help='Enter a float to square.')\n",
    "\n",
    "##Here, we add an argument that doesn't need an input value.\n",
    "##The action='store_true' means if this argument is added on\n",
    "##the command line, it will set args.also_do_sqrt=True. We can\n",
    "##then do certain things in the code using 'if args.also_do_sqrt: do stuff'\n",
    "parser.add_argument('--also_do_sqrt', action='store_true',\n",
    "    help='If added, will also perform a square root on the input number')\n",
    "```\n",
    "\n",
    "Read the comments to understand what the lines do. Requiring inputs to conform to expected values can save grief later in the code, and optional arguments are easy ways to add in extra flexibility to your code.\n",
    "\n",
    "## <font color='blue'> Ex 7.2 </font>\n",
    "Make sure you've opened up `test_script2.py`. Run the code box below, and make sure you follow through the logic statements inside to understand what is plotted. Try predicting what will be printed if you remove some of the arguments. On the command line, try the following things: running with no arguments at all; inputting a float to the `--integer` argument; using the `--help` argument. Do your best to break the code by playing with input values."
   ]
  },
  {
   "cell_type": "code",
   "execution_count": null,
   "metadata": {},
   "outputs": [],
   "source": [
    "%%bash\n",
    "python test_script2.py --integer=98897234 --float=34.4576 --also_do_sqrt"
   ]
  },
  {
   "cell_type": "markdown",
   "metadata": {},
   "source": [
    "## The old `__name__ == '__main__'`\n",
    "One last example. If you remember back to `1_Code_Structure`, I introduced `__name__ == '__main__'`, which runs the code after it, only if the script is used directly, rather than as a module `import`. Open up `test_script3.py` with a text editor, and see how I've used it in conjunction with `argparse`. Using this approach, we can import any funcions/classes that we define to other python instances, whilst ignoring the need for command line input.\n",
    "\n",
    "I've also introduced another way of adding an argument, like this:\n",
    "\n",
    "```python\n",
    "parser.add_argument('redshift', type=float,\n",
    "        help='Enter a redshift to investigate')\n",
    "```\n",
    "\n",
    "\n",
    "\n",
    "When you add '--' to the front of an argument, it technically means it's an 'option'. `argparse` will allow the script to keep running if this option isn't included. If you omit the '--', you make it a required positional argument. This means you just enter the value after calling your script, like this:"
   ]
  },
  {
   "cell_type": "code",
   "execution_count": null,
   "metadata": {},
   "outputs": [],
   "source": [
    "%%bash\n",
    "python test_script3.py 1000"
   ]
  },
  {
   "cell_type": "markdown",
   "metadata": {},
   "source": [
    "> Personally, I don't like positional arguments, particularly if you use more than one. The onus becomes on the user to enter things exactly correctly, and it can quickly become confusing. I much prefer defining something like `--redshift`, so the user writes something like `python test_script3.py --redshift=6.8`, which just makes more sense to me. HOWEVER, `python` standards disagree ([see here](https://docs.python.org/3/library/argparse.html#required)), and say you should never 'require' an 'optional' argument. So you should ignore me if you want to work to the required `python` standards. But you can change `argparse` `--help` default behaviour as [explained here](https://stackoverflow.com/questions/24180527/argparse-required-arguments-listed-under-optional-arguments) if you want (you shouldn't, I'm a bad influence).\n",
    "\n",
    "## <font color='blue'> Ex 7.3 </font>\n",
    "Try running `test_script3.py` on the command line without any arguments, and see what the `--help` says. Make sure you understand what you see. Also, convince yourself that you can import from `test_script3.py` by importing the and using the `cosmo_values_at_redshift` function here"
   ]
  },
  {
   "cell_type": "code",
   "execution_count": null,
   "metadata": {},
   "outputs": [],
   "source": []
  },
  {
   "cell_type": "markdown",
   "metadata": {},
   "source": [
    "## Putting it all together\n",
    "Strap yourselves in folks. We've spent time learning about writing functions and classes, learning some fundamental functionality, and now we've seen how to input arguments into a script. It's time to put it all together.\n",
    "\n",
    "## <font color='blue'> Ex 7.4 </font>\n",
    "Write a script that packages up most of the functionality from `6_AGN_Spectra_Completed.ipynb`. At a minimum, I want you to write a script that takes in the following:\n",
    "#### Required arguments\n",
    " - A path to a 3D spectral FITS file\n",
    " - An x,y pixel coordinate to select a spectrum to fit\n",
    " \n",
    "#### Optional arguments:\n",
    " - Switching SavGol smoothing on/off\n",
    " - Range of wavelengths around the line centre to be included in fitting\n",
    " \n",
    "The script should take in the given FITS file, read it, slice to obtain the requested spectrum at the given pixel. It should plot the full spectrum, with overlaid know emission lines. It should then create a subset of the spectrum, surrounding the 'CIV' wavelength, and fit the CIV emission peak. It should print out the fit results, and plot the fitting results as well.\n",
    "\n",
    "All of your argparse inputs should be checked by the script. If the user inputs something that will cause a crash, use `sys.exit()` to kill the process, and include a helpful error message. Put a document string in ALL of your functions, and comment your code as you go.\n",
    "\n",
    "Beyond those requirements, you can add as much functionality as you want! Some suggestions for what you could include:\n",
    " - Allow the user to change the SavGol smoothing parameters\n",
    " - Fit other lines beyond the 'CIV' line\n",
    " - Allow the user to choose from a range of lmfit Models"
   ]
  }
 ],
 "metadata": {
  "kernelspec": {
   "display_name": "Python 3",
   "language": "python",
   "name": "python3"
  },
  "language_info": {
   "codemirror_mode": {
    "name": "ipython",
    "version": 3
   },
   "file_extension": ".py",
   "mimetype": "text/x-python",
   "name": "python",
   "nbconvert_exporter": "python",
   "pygments_lexer": "ipython3",
   "version": "3.5.2"
  }
 },
 "nbformat": 4,
 "nbformat_minor": 4
}
