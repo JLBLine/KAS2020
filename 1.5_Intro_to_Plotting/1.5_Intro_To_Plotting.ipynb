{
 "cells": [
  {
   "cell_type": "markdown",
   "metadata": {},
   "source": [
    "# 1.5 Plotting ramblings of an astronomer\n",
    "Hi all, in this extra notebook, I'll go over the way I like to approach plotting, and some of the tricks I have picked up over the years. There are multiple ways to plot things, so this will be based on my experiences. We're going to try to do everything with just `matplotlib` for now. Be aware however, there are wrapper packages out there, for example packages like [seaborn](https://seaborn.pydata.org/#) that can make pretty plots, and `pandas` (which we will look at in the next notebook) which is great for doing an analysis and plotting a data set.\n",
    "\n",
    "In matplotlib, there are often two different commands that do essentially the same thing. This can be confusing at the start, and will just take practice and time to get used to. I'll try and point some of them out in the comments in the code to give you fair warning.\n",
    "\n",
    "Oh and lastly, we will be looking a 2D plots, and astronomical image plots in a latter notebook. So don't worry that there are no pretty galaxies yet, they're coming!\n",
    "\n",
    "## What are you plotting *on*?\n",
    "Ok, the most simple way to plot is like the below:"
   ]
  },
  {
   "cell_type": "code",
   "execution_count": null,
   "metadata": {},
   "outputs": [],
   "source": [
    "import numpy as np\n",
    "import matplotlib.pyplot as plt\n",
    "\n",
    "##Make a sine function to plot\n",
    "x_values = np.linspace(-3*np.pi,3*np.pi,50)\n",
    "sin_values = np.sin(x_values)\n",
    "\n",
    "##do the plot\n",
    "plt.plot(x_values, sin_values)\n",
    "\n",
    "##as a jupyter notebook is based off of an\n",
    "##interactive environment, in this example, you\n",
    "##don't necessarily need to call plt.show().\n",
    "##The notebook understands the type of output\n",
    "##and displays it for you automagically\n",
    "##If you write this code inside a script\n",
    "##however, when you run 'python script.py',\n",
    "##without plt.show(), you won't get anything\n",
    "##to show up at all. You have been warned\n",
    "plt.show()\n"
   ]
  },
  {
   "cell_type": "markdown",
   "metadata": {},
   "source": [
    "> *Note: As I'm keeping this basic, I haven't added axes labels, but in the real world, ALWAYS ADD AXES LABELS, anyone else looking at this has no idea what you are plotting. If you add labels every time, it becomes habit, and the world is a better place.*\n",
    "\n",
    "Right, so the `plt.plot` command is really doing *three* main things here:\n",
    "\n",
    "1. It's making a `figure`, which is basically the canvas that everything is painted onto\n",
    "2. It's also making an `axes`, which is drawn onto the `figure`, and the data is plotted on\n",
    "3. It's plotting our sine data, with default settings, which is a line plot\n",
    "\n",
    "I'm mentioning this, because if you want finer control, you can create these things explicitly:\n"
   ]
  },
  {
   "cell_type": "code",
   "execution_count": null,
   "metadata": {
    "scrolled": false
   },
   "outputs": [],
   "source": [
    "##This explicitly creates a figure, which we\n",
    "##can then manually add multiple axes to if\n",
    "##we want\n",
    "fig = plt.figure()\n",
    "\n",
    "##This is one example of how to add an axes\n",
    "##the three numbers are how many axes along\n",
    "##the x-axis, how many axes along the y-axes,\n",
    "##which axes in that configuration we are\n",
    "##adding. So this command just means add a\n",
    "##single axes that covers the whole figure\n",
    "ax = fig.add_subplot(1,1,1)\n",
    "\n",
    "##Same as above command, but ax.plot,\n",
    "##not plt.plot. Note that plt.plot will\n",
    "##actually work, but plt.plot finds the \n",
    "##most RECENTLY created axes to plot on\n",
    "##If you explicitly say ax.plot you \n",
    "##know where it's going to be plotting\n",
    "ax.plot(x_values, sin_values)\n",
    "\n",
    "##Add some labels to the ax\n",
    "ax.set_xlabel('x')\n",
    "ax.set_ylabel('sin(x)')\n",
    "\n",
    "##you can alternatively run these commands\n",
    "##to add labels. Note that, annoyingly, they\n",
    "##are slightly different and don't have 'set_'\n",
    "#plt.xlabel('x')\n",
    "#plt.ylabel('sin(x)')\n",
    "\n",
    "plt.show()\n"
   ]
  },
  {
   "cell_type": "markdown",
   "metadata": {},
   "source": [
    "Often it's useful to create multiple axes on a single figure, so it's easier to compare what you are plotting, and keep track of things. My favourite way of doing that is by using `plt.subplots`. I'll also use these plots to introduce how you can control the linestyle, colours, and markers of the `plot` method"
   ]
  },
  {
   "cell_type": "code",
   "execution_count": null,
   "metadata": {},
   "outputs": [],
   "source": [
    "##This command creates a new figure, and\n",
    "##returns an array of axes objects. The\n",
    "##array position matches a grid of axes,\n",
    "##so this command makes a 2 by 2 grid of\n",
    "##4 subplots\n",
    "##figsize controls the overall shape of\n",
    "##your plot - here I make it 10 wide and 6 tall\n",
    "##sadly, the units are inches\n",
    "\n",
    "fig, axs = plt.subplots(2,2,figsize=(10,6))\n",
    "\n",
    "##As we have an array of axes, we can access\n",
    "##them like a normal 2D array, so 0,0 gives us top left\n",
    "##In the plot command here, I use explicit keywords\n",
    "##to change the colour of the plot, add a circle ('o') marker,\n",
    "##and make the linestyle to be 'dotted'\n",
    "axs[0,0].plot(x_values, sin_values,color='g',marker='o',linestyle='dotted')\n",
    "\n",
    "##You can do exactly the same by passing the third\n",
    "##argument as a string containing specific letters\n",
    "##and symbols. Here we have:\n",
    "##  g = green\n",
    "##  o = circle marker\n",
    "##  : = dotted line\n",
    "axs[0,1].plot(x_values, sin_values,'go:')\n",
    "\n",
    "##Do a blue dashed line\n",
    "axs[1,0].plot(x_values, sin_values,'b--')\n",
    "\n",
    "##If you don't pass a line formatter\n",
    "##but do pass a marker formatter, you \n",
    "##don't get a line plotted\n",
    "axs[1,1].plot(x_values, sin_values,'ms')\n",
    "\n",
    "##This is a cheeky trick to label all your\n",
    "##axes at once - the .flatten argument makes\n",
    "##a 2D array into a 1D, so you can loop over it\n",
    "for ax in axs.flatten():\n",
    "    ax.set_xlabel('x')\n",
    "    ax.set_ylabel('sin(x)')\n",
    "\n",
    "##This somewhat magic command makes the axes labels\n",
    "##and tickmarks not overlap\n",
    "plt.tight_layout()\n",
    "\n",
    "##Have a look\n",
    "plt.show()\n",
    "\n"
   ]
  },
  {
   "cell_type": "markdown",
   "metadata": {},
   "source": [
    "## <font color='blue'>Exercise 1.5.1</font>\n",
    "\n",
    "Go to the Notes section of this page [here](https://matplotlib.org/api/_as_gen/matplotlib.pyplot.plot.html?highlight=plot#matplotlib.pyplot.plot) to find out all of the shortcuts for colours, markers, and linestyles. Make a 3 by 2 set of axes (so 6 axes in total), and plot $\\sin(x)$ vs $x$ without repeated a marker, a colour, or a linestyle"
   ]
  },
  {
   "cell_type": "code",
   "execution_count": null,
   "metadata": {
    "scrolled": true
   },
   "outputs": [],
   "source": []
  },
  {
   "cell_type": "markdown",
   "metadata": {},
   "source": [
    "## Logs and errors\n",
    "Right, previously I've shown that a classic syncrotron spectra follows a power law like $S = S_0\\nu^\\alpha$. Plotting this over a large range of frequencies isn't too informative as the behaviour gets lost due to the scaling of the exponential against the axis units. Instead, it's better to plot it with a logarithmic axis. Let's see how, and look at the difference:"
   ]
  },
  {
   "cell_type": "code",
   "execution_count": null,
   "metadata": {
    "scrolled": true
   },
   "outputs": [],
   "source": [
    "##Make some data\n",
    "\n",
    "##np.logspace evenly samples data in log space\n",
    "##below it will sample between 10**7 and 10**10\n",
    "##and give me 30 samples\n",
    "freqs = np.logspace(7, 10, 30)\n",
    "sed = 1e+6*freqs**-0.8\n",
    "\n",
    "##This time we only ask for 1\n",
    "##row of plots, so axs comes\n",
    "##back as a 1D array\n",
    "fig, axs = plt.subplots(1,2)\n",
    "\n",
    "##Plot a linear scale plot\n",
    "axs[0].plot(freqs,sed)\n",
    "\n",
    "##Here we set both axis to be\n",
    "##a log scale\n",
    "axs[1].set_xscale('log')\n",
    "axs[1].set_yscale('log')\n",
    "\n",
    "##We don't have to change our data,\n",
    "##just the scale of the axis\n",
    "axs[1].plot(freqs,sed)\n",
    "\n",
    "for ax in axs:\n",
    "    ax.set_xlabel('Freq (Hz)')\n",
    "    ax.set_ylabel('Flux density (Jy)')\n",
    "    \n",
    "\n",
    "plt.tight_layout()\n",
    "plt.show()\n"
   ]
  },
  {
   "cell_type": "markdown",
   "metadata": {},
   "source": [
    "On the right, we can see the data follow a classic power-law, as it's a flat line on a log-plot. If we saw curvature, we could intuitively see that some different physics is happening; by eye you just can't see that on the left. Choosing the correct thing to plot is important.\n",
    "\n",
    "Ok, what about errors? How do we add error bars to our plots?"
   ]
  },
  {
   "cell_type": "code",
   "execution_count": null,
   "metadata": {},
   "outputs": [],
   "source": [
    "##We seen this before, I'll just make a line,\n",
    "##add some noise, and then plot some error bars\n",
    "\n",
    "x_values = np.arange(0,20)\n",
    "errors = np.random.normal(0,2,20)\n",
    "\n",
    "y_values = x_values + errors\n",
    "\n",
    "fig, axs = plt.subplots(1,2)\n",
    "\n",
    "##This time I'm going to add a legend. To do\n",
    "##that, I use the label keyword, which gets\n",
    "##used later\n",
    "axs[0].plot(x_values, x_values,'C1-',label='Line')\n",
    "axs[1].plot(x_values, x_values,'C1-',label='Line')\n",
    "\n",
    "##I always find it clearer to plot empty markers,\n",
    "##which means you can see data below them. To do that,\n",
    "##I include set the marker face colour to none (mfc='none')\n",
    "axs[0].plot(x_values, y_values,'C0o',label='Line + errors',mfc='none')\n",
    "\n",
    "\n",
    "##Plot it with errorbars, using .errorbar, and setting yerr=error\n",
    "##Note with the errorbar command, you can't supply the 'C0o' string\n",
    "##You have to specify the keywords individually\n",
    "\n",
    "axs[1].errorbar(x_values, y_values, yerr=errors, label='Line + errors', linestyle='none',marker='o',color='C0',mfc='none')\n",
    "\n",
    "\n",
    "for ax in axs:\n",
    "    ax.set_xlabel('x')\n",
    "    ax.set_ylabel('y')\n",
    "    ##Add a legend to both axes. You can add\n",
    "    ##legends by just doing plt.legend, but you have\n",
    "    ##to call plt.legend in exactly the right point of\n",
    "    ##the code, when each axes is 'current'. I prefer\n",
    "    ##this way because I can know for sure axes I am\n",
    "    ##adding a legend to\n",
    "    ax.legend()\n",
    "    \n",
    "    \n",
    "plt.tight_layout()\n",
    "plt.show()"
   ]
  },
  {
   "cell_type": "markdown",
   "metadata": {},
   "source": [
    "## <font color='blue'>Exercise 1.5.2</font>\n",
    "Add some errors to the `sed` array we created before, and plot error bars in both a linear axes and logarithmic axes. Use `np.random.normal` to add errors, with `std=5e-2`.\n",
    "> *I will note however that this is totally unrealistic for an SED - the sensitivity of telescopes changes drastically over these frequency ranges, so the errors wouldn't follow the normal distribution*"
   ]
  },
  {
   "cell_type": "code",
   "execution_count": null,
   "metadata": {},
   "outputs": [],
   "source": []
  },
  {
   "cell_type": "markdown",
   "metadata": {},
   "source": [
    "## Polar plots\n",
    "The cartesian coordinate system ($x, y$) isn't the only thing out there, and often calculations are far easier in another system. Let use a circle as an example, and plot a circle on a cartesian and polar coordinates (see [here](https://mathworld.wolfram.com/PolarCoordinates.html) if you are unfamiliar with polar coordinates). In astronomy, observer coordintes known as *azimuth, elevation* are polar, and help you locate things on the sky, so this crops up every now and then."
   ]
  },
  {
   "cell_type": "code",
   "execution_count": null,
   "metadata": {},
   "outputs": [],
   "source": [
    "fig = plt.figure(figsize=(11,5))\n",
    "\n",
    "##We're going to set up axes in a\n",
    "##different way, as you can't change\n",
    "##the projection of a plot after the fact\n",
    "\n",
    "##Make a normal cartesian axes in one row,\n",
    "##2 column plot, in the first position (left)\n",
    "ax1 = fig.add_subplot(1,2,1)\n",
    "\n",
    "##Make another plot but in a polar projection,\n",
    "##and on the right-hand side (the final two)\n",
    "ax2 = fig.add_subplot(1,2,2,projection='polar')\n",
    "\n",
    "##make a circle in cartesian coords\n",
    "##x**2 + y**2 = r**2\n",
    "\n",
    "r = 1\n",
    "x = np.linspace(-r,r,100)\n",
    "y = np.sqrt(r**2 - x**2)\n",
    "\n",
    "##Plot both positive and negative answers\n",
    "ax1.plot(x,y,'C0-')\n",
    "ax1.plot(x,-y,'C0-')\n",
    "\n",
    "##labels labels labels\n",
    "ax1.set_xlabel('x')\n",
    "ax1.set_ylabel('y')\n",
    "\n",
    "\n",
    "##same radius circle in polar coords\n",
    "theta = np.linspace(0,2*np.pi,100)\n",
    "\n",
    "##the np.ones function creates an array\n",
    "##of one to the given length\n",
    "radius = np.ones(100)*r\n",
    "\n",
    "##The plot function works the same way, but\n",
    "##now your 'x' is the theta angle (in radians)\n",
    "##and 'y' is a radius\n",
    "ax2.plot(theta,radius,'C0-')\n",
    "\n",
    "##labels labels labels\n",
    "ax2.set_xlabel(r'$\\theta$')\n",
    "ax2.set_ylabel('$r$')\n",
    "\n",
    "#plt.tight_layout()\n",
    "plt.show()\n"
   ]
  },
  {
   "cell_type": "markdown",
   "metadata": {},
   "source": [
    "## <font color='blue'>Exercise 1.5.3</font>\n",
    "Make two axes, one with cartesian, and one with polar coordinates. Turn my cartesian circle maths and plotting into a function that takes an `axes`, a radius `r` and a `color`, and plots a cirle of radius `r` on the `axes` in the given `color`. Using this, plot 5 circles with different radii on the cartesian plot, and an equivalent 5 circles on the polar plot. Plot the circles that have the same radius in the same colour on both axes."
   ]
  },
  {
   "cell_type": "code",
   "execution_count": null,
   "metadata": {},
   "outputs": [],
   "source": []
  },
  {
   "cell_type": "markdown",
   "metadata": {},
   "source": [
    "## Histograms and KDEs\n",
    "Let's say you have many samples of data, and don't know what the underlying physics behind the distribution is. A good starting point is the histogram the data, and see if you can see some kind of recognisable distribution, to try and infer some physics. Here we'll make some fake data, and look at histogramming it. The choice of bin-width can influence what we see, so we'll try and few different bin-widths:"
   ]
  },
  {
   "cell_type": "code",
   "execution_count": null,
   "metadata": {
    "scrolled": true
   },
   "outputs": [],
   "source": [
    "##numpy random is supposed to be random\n",
    "##so if you call this function multiple times,\n",
    "##you get a different set of samples. I want\n",
    "##you to get the same set of random values I get,\n",
    "##which I can do by setting the random 'seed'\n",
    "##like this\n",
    "np.random.seed(983745)\n",
    "\n",
    "##I'm going to make some data by combining two normal distributions\n",
    "data1 = np.random.normal(0,6,5000)\n",
    "data2 = 2*np.random.normal(13,6,5000)\n",
    "\n",
    "##I'm going to use np.append, which\n",
    "##append one array into another to combine\n",
    "##the data\n",
    "data = np.append(data1, data2)\n",
    "\n",
    "#Set up a few plots\n",
    "fig, axs = plt.subplots(2,2,figsize=(10,10))\n",
    "\n",
    "##The second argument of ax.hist is the number of bins\n",
    "##ax.hist will automatically use the highest and lowest\n",
    "##values of your data to set the bin range\n",
    "##density means we set the sum of the histogram to 1.0\n",
    "\n",
    "axs[0,0].hist(data,12,density=True)\n",
    "axs[0,1].hist(data,50,density=True)\n",
    "\n",
    "##ax.hist actually returns the binned data, the bins,\n",
    "##and the patch (the thing that was plotted) if you want\n",
    "##to use the values for something else\n",
    "hist_data, bins, _, = axs[1,0].hist(data,100,density=True)\n",
    "\n",
    "##However, hist returns the bin EDGES, so there are\n",
    "##one more bin values that histogrammed data points\n",
    "##if you want to plot the values at bin centre on another\n",
    "##plot, you need to do something like the below\n",
    "\n",
    "bin_centres = (bins[:-1] + bins[1:]) / 2\n",
    "\n",
    "axs[1,1].plot(bin_centres, hist_data, 'C0-')\n",
    "\n",
    "plt.show()\n",
    "\n"
   ]
  },
  {
   "cell_type": "markdown",
   "metadata": {},
   "source": [
    "Ok, so when we chose a low number of bins, we lost detail - but how do we pick the correct bin width? At some point if we have noisy data, we might just get rubbish back. The real full answer is \"it depends on your science and data\", but there is an alternative to a histogram. Something called a \"kernel density estimator\" or KDE (you can read more [here](https://en.wikipedia.org/wiki/Kernel_density_estimation) as an introduction, and [here](https://towardsdatascience.com/histograms-vs-kdes-explained-ed62e7753f12) for a data science take). In short, instead of doing a simple binning, you use some kind of kernel function (such as a Gaussian) to smooth the data, and reveal the underlying distribution. Here is an example using `scipy`:"
   ]
  },
  {
   "cell_type": "code",
   "execution_count": null,
   "metadata": {
    "scrolled": true
   },
   "outputs": [],
   "source": [
    "from scipy.stats import gaussian_kde\n",
    "\n",
    "##Sets up a kernel density estimator for this data\n",
    "kde = gaussian_kde(data)\n",
    "\n",
    "##A range of values we want to estimate our\n",
    "##distribution at - here I just sample between\n",
    "##the maxiumum and minimum values\n",
    "est_values = np.linspace(min(data),max(data),100)\n",
    "\n",
    "##Use the kde object to estimate at our values\n",
    "kde_est = kde.evaluate(est_values)\n",
    "\n",
    "##plt a histogram for comparison\n",
    "plt.hist(data,100,density=True)\n",
    "\n",
    "##plt the kde estimate\n",
    "plt.plot(est_values,kde_est,'C1-',linewidth=3.0)\n",
    "\n",
    "plt.show()"
   ]
  },
  {
   "cell_type": "markdown",
   "metadata": {},
   "source": [
    "Alright, so our KDE estimation has picked out the same amount of detail as our 100 bins histogram. Now, I told my kernel estimator to use 100 points, so really I tweaked it the same amount my histogram. One of the major differences though is that our KDE is smooth; if you have groups of outliers, or just very noisy data, sometimes that smoothing can reveal the distribution better."
   ]
  },
  {
   "cell_type": "markdown",
   "metadata": {},
   "source": [
    "## <font color='blue'>Exercise 1.5.4</font>\n",
    "Make 4 plots in a 2 by 2 arrangement, where you plot a histogram and KDE of the `data` on each axes. For each axes, change the number of bins in the histogram, and the number of values you estimate you KDE at."
   ]
  },
  {
   "cell_type": "code",
   "execution_count": null,
   "metadata": {},
   "outputs": [],
   "source": []
  }
 ],
 "metadata": {
  "kernelspec": {
   "display_name": "Python 3",
   "language": "python",
   "name": "python3"
  },
  "language_info": {
   "codemirror_mode": {
    "name": "ipython",
    "version": 3
   },
   "file_extension": ".py",
   "mimetype": "text/x-python",
   "name": "python",
   "nbconvert_exporter": "python",
   "pygments_lexer": "ipython3",
   "version": "3.5.2"
  }
 },
 "nbformat": 4,
 "nbformat_minor": 4
}
