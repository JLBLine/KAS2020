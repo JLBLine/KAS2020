{
 "cells": [
  {
   "cell_type": "markdown",
   "metadata": {},
   "source": [
    "# Session <font color='red'>Which session?</font>\n",
    "    \n",
    "<font color='red'>Expand this based on what we include in the session</font>\n",
    "In this session we'll talk about N-dimensional `arrays`, look at plotting 2D data, and discuss using and plotting data from a common astronomical format - the FITS file."
   ]
  },
  {
   "cell_type": "markdown",
   "metadata": {},
   "source": [
    "## N-dimensional `arrays`\n",
    "We briefly tounch on multi-dimensional arrays in the notebook `2_Pandas`, but it's worth repeating how they work as we will be using them throughout this notebook. We'll go over a few `numpy` functions and tricks while we're at it. If this is all old news to you, awesome, give it a read and get to the juicier problems at the end. If it's new to you, take the time to practrice it here. We'll start of by assembling a 2D array by hand:"
   ]
  },
  {
   "cell_type": "code",
   "execution_count": null,
   "metadata": {
    "scrolled": true
   },
   "outputs": [],
   "source": [
    "import numpy as np\n",
    "##Inputting n into 'arange' creates \n",
    "##an array from 0 up to n-1\n",
    "a = np.arange(9)\n",
    "print(a)\n",
    "##let's print a line to separate the outputs\n",
    "print('-------')\n",
    "##Use the shape attribute to make 2D\n",
    "a.shape = (3,3)\n",
    "print(a)"
   ]
  },
  {
   "cell_type": "markdown",
   "metadata": {},
   "source": [
    "By setting the attribute `shape` to `(3,3)`, we change `a`into a 3$\\,\\times\\,$3 `array`. Incidentally, `(3,3)` is another data type know as a `tuple`. Tuples consist of values, separated by commas `,`, surrounded by parentheses `()`. They seem similar to `lists` at first, but the major difference is that a tuple is 'immutable', which means you can't change the contents once you create it. `lists` are mutable because you can alter the contents.\n",
    "\n",
    "We can access elements of the array just like a 1D array, but now we need two indexes to specify a location (kind of like an $x,y$ coordinate). Both axis are zero indexed, so we access the first element of the array like this `a[0,0]`.\n",
    "\n",
    "If we think of the horizontal direction as `x`, and the vertical as `y`, the indexing works like this:\n",
    "\n",
    "$$\n",
    "\\begin{array}{ccc} \n",
    "[[y_0,x_0 & y_0,x_1 & y_0,x_2] \\\\ \n",
    "[y_1,x_0 & y_1,x_1 & y_1,x_2] \\\\ \n",
    "[y_2,x_0 & y_2,x_1 & y_2,x_2]] \\\\ \n",
    "\\end{array} \n",
    "$$"
   ]
  },
  {
   "cell_type": "markdown",
   "metadata": {},
   "source": [
    "Where $y_1,x_0$ means you would mean access the element via `a[1,0]`. Importantly, the first index you enter is for the `y` axis. You can think of the dimension as having an 'order', where the $x$ dimension is the first order, and $y$ the second order dimension. When you go above 2 dimensions the dimensional index ordering goes like $n,n-1,\\,...,\\,1$ where $n$ is the number of dimensions. The same ordering applies when creating the shape of the `array`. Run the code below to get a feel for how this works."
   ]
  },
  {
   "cell_type": "code",
   "execution_count": null,
   "metadata": {},
   "outputs": [],
   "source": [
    "b = np.arange(12)\n",
    "b.shape = (4,3)\n",
    "print(b)\n",
    "print('Index 0,2 is element value',b[0,2])\n",
    "print('Index 3,1 is element value',b[3,1])"
   ]
  },
  {
   "cell_type": "markdown",
   "metadata": {},
   "source": [
    "***\n",
    "## <font color=blue>Exercise 3.1<font>\n",
    "Create an array using `arange` that has 15 elements. Give it a shape where there are 5 elements in the horizontal direction, and 3 in the vertical. Write a print function that calls the element equal to 4, and another that calls the element equal to 11. Use the box below\n"
   ]
  },
  {
   "cell_type": "code",
   "execution_count": null,
   "metadata": {},
   "outputs": [],
   "source": []
  },
  {
   "cell_type": "markdown",
   "metadata": {},
   "source": [
    "***\n",
    "\n",
    "### Slicing\n",
    "It's often useful to access just certain parts of an array that we want to work on. An efficient way to do this is to 'slice' the array, which accesses multiple elements of the array simultaneously. Read and run the code below to look at slicing"
   ]
  },
  {
   "cell_type": "code",
   "execution_count": null,
   "metadata": {},
   "outputs": [],
   "source": [
    "a = np.arange(10)\n",
    "print('Full array is',a)\n",
    "\n",
    "##Slicing uses a semicolon in the indexing \n",
    "##adding n:m makes a subsection of the array\n",
    "##starting at element n, up to element m-1\n",
    "\n",
    "print('a[1:4] gives',a[1:4])\n",
    "print('a[3:8] gives',a[3:8])"
   ]
  },
  {
   "cell_type": "markdown",
   "metadata": {},
   "source": [
    "There are a couple of other quick slicing and indexing tricks. Check out the table below for some examples (where we use a 1D `array` called `a`. Try them out in the code box below\n",
    "\n",
    "|Syntax| Effect|\n",
    "|:-|:-|\n",
    "|`a[n:]` | Access the elements from `n` up to the end of the array |\n",
    "|`a[:n]` | Access the elements from the start of the array up to and including the element `n-1` |\n",
    "|`a[-1]` | Access the very last element in the array |\n",
    "|`a[::-1]`|Reverse the order of the elements in the array\n",
    "\n"
   ]
  },
  {
   "cell_type": "code",
   "execution_count": null,
   "metadata": {},
   "outputs": [],
   "source": []
  },
  {
   "cell_type": "markdown",
   "metadata": {},
   "source": [
    "## <font color=blue>Exercise 3.2<font>\n",
    "You can slice in 2D as well! See if you can work out the syntax for how. First off, create an array called `awesome_array` which is a `(4,5)` `array` with elements like this:\n",
    "    \n",
    "```python\n",
    "print(`awesome_array`)\n",
    "```\n",
    "```\n",
    "[[ 0  1  2  3  4]\n",
    " [ 5  6  7  8  9]\n",
    " [10 11 12 13 14]\n",
    " [15 16 17 18 19]]\n",
    "```\n",
    "then do a slice operation to access these elements\n",
    "```\n",
    "[[ 7  8  9]\n",
    " [12 13 14]]\n",
    " ```\n",
    "`print` your answer to make sure it's correct."
   ]
  },
  {
   "cell_type": "code",
   "execution_count": null,
   "metadata": {},
   "outputs": [],
   "source": []
  },
  {
   "cell_type": "markdown",
   "metadata": {},
   "source": [
    "***\n",
    "You can use slicing to assign new values to elements. You can either set multiple elements equal to a single value, or another `array` which is the same size as the slice you are making. Try the following code out:"
   ]
  },
  {
   "cell_type": "code",
   "execution_count": null,
   "metadata": {},
   "outputs": [],
   "source": [
    "import numpy as np\n",
    "\n",
    "##zeros is a conveience function from numpy\n",
    "##it creates an array of zeros in whatever shape you want\n",
    "##the code below makes a 4x4 array of zeros\n",
    "test_array = np.zeros((4,4))\n",
    "print('This is the test array')\n",
    "##The '\\n' is a return carriage - starts a print on a new line\n",
    "print(test_array,'\\n')\n",
    "\n",
    "##Set all the elements selected by the slice to 2\n",
    "test_array[1:3,1:3] = 2\n",
    "print(\"After setting some elements to 2\")\n",
    "print(test_array,'\\n')\n",
    "\n",
    "sub_array = np.array([1,2,3,4])\n",
    "sub_array.shape = (2,2)\n",
    "\n",
    "##Now set the same elements to the\n",
    "##smaller array we just created\n",
    "test_array[1:3,1:3] = sub_array\n",
    "\n",
    "print(\"After setting the same elements to sub_array\")\n",
    "print(test_array,'\\n')"
   ]
  },
  {
   "cell_type": "markdown",
   "metadata": {},
   "source": [
    "### Truth testing arrays\n",
    "Logic testing works slightly differently on arrays, as they can have multiple elements. For example, imagine you had some basic data on a number of galaxies that said whether they were 'blue' or 'red', and their stellar mass $M_\\odot$ (to keep things simple let's have 10 galaxies):\n",
    "\n",
    "```python\n",
    "colours = array(['red','red','blue','red','blue','blue','red','red','red','blue'])\n",
    "masses = array([2.3e8,4.2e7,5.8e8,1.6e7,3.8e7,3.8e9,8.6e6,9.3e5,6.9e10,3.5e8])\n",
    "```\n",
    "\n",
    "Say you only wanted to access data from red galaxies. You can use the Comparison Operator to find where this condition is met, and return an array containing either `True` or `False`. These are the kind of operations that `pandas` is doing under the hood when you group your data. Try it below"
   ]
  },
  {
   "cell_type": "code",
   "execution_count": null,
   "metadata": {},
   "outputs": [],
   "source": [
    "##Some fake data\n",
    "colours = np.array(['red','red','blue','red','blue','blue','red','red','red','blue'])\n",
    "masses = np.array([2.3e8,4.2e7,5.8e8,1.6e7,3.8e7,3.8e9,8.6e6,9.3e5,6.9e10,3.5e8])\n",
    "\n",
    "print(colours == 'red')"
   ]
  },
  {
   "cell_type": "markdown",
   "metadata": {},
   "source": [
    "Happily, you can actually access elements within an `array` using Booleans (`True` or `False` here). If you use an `array` of the same length as `colours`, containing `True` or `False`,  to access elements within `colours`, you only return the elements corresponding to `True`. Which means we can use the same logic test to call elements of another array, e.g. `masses`. Try the code below and make sure you understand what is happening here:"
   ]
  },
  {
   "cell_type": "code",
   "execution_count": null,
   "metadata": {},
   "outputs": [],
   "source": [
    "print('Full colours',colours)\n",
    "print('Full masses',masses,'\\n')\n",
    "\n",
    "print('Only red',colours[colours == 'red'])\n",
    "print('Masses of red galaxies',masses[colours == 'red'])"
   ]
  },
  {
   "cell_type": "markdown",
   "metadata": {},
   "source": [
    "There is a nice little trick that allows you to apply multiple criteria as the same time. Imagine you want to select all the red galaxies that are also over $10^9_\\odot$. You can do that with the following syntax:\n",
    "```python\n",
    "masses[(colours == 'red') & (masses > 1e9)]\n",
    "```\n",
    "The important thing to note here is the parentheses `()` around each logic test - *without them this won't work*. Don't worry for now about why - but by added the `()`, and combining the logic tests with the ampersand `&`, you can add multiple logic tests. Try running it below and check the result against the original data to see if it makes sense.\n"
   ]
  },
  {
   "cell_type": "code",
   "execution_count": null,
   "metadata": {},
   "outputs": [],
   "source": [
    "print(masses[(colours == 'red') & (masses > 1e9)])"
   ]
  },
  {
   "cell_type": "markdown",
   "metadata": {},
   "source": [
    "***\n",
    "## <font color=blue>Exercise 3.3<font>\n",
    "There is a useful function for generating $x$ and $y$ coordinates in 2D arrays called `meshgrid`. Imagine you wanted to create a 5$\\times$5 `array` with $x$ and $y$ coordinates that ranged from -2 to 2 inclusive. You could use `meshgrid` like so:\n",
    "\n",
    "```python\n",
    "x_range = np.arange(-2,3)\n",
    "y_range = np.arange(-2,3)\n",
    "\n",
    "x_mesh,y_mesh = np.meshgrid(x_range,y_range)\n",
    "\n",
    "print(x_mesh,'\\n')\n",
    "print(y_mesh)\n",
    "```\n",
    "```\n",
    "[[-2 -1  0  1  2]\n",
    " [-2 -1  0  1  2]\n",
    " [-2 -1  0  1  2]\n",
    " [-2 -1  0  1  2]\n",
    " [-2 -1  0  1  2]] \n",
    "\n",
    "[[-2 -2 -2 -2 -2]\n",
    " [-1 -1 -1 -1 -1]\n",
    " [ 0  0  0  0  0]\n",
    " [ 1  1  1  1  1]\n",
    " [ 2  2  2  2  2]]\n",
    "```\n",
    "\n",
    "So x_mesh is now a 5$\\times$5 `array` that contains the `x` coordinates that we want to associate with an output array.\n",
    "\n",
    "Use the `meshgrid` functionality to define a `function` that can create a simple 'circle' array, like the below. This is a 13$\\times$13 array of zeros, with a 'circle' of ones within that has a radius of 5. Complete the code below to create this output. You may want to make use of the `numpy.sqrt` function, which finds the square root of a number or `array`, and remember for a circle, $x^2 + y^2 = r^2$.\n",
    "\n",
    "```\n",
    "[[0. 0. 0. 0. 0. 0. 0. 0. 0. 0. 0. 0. 0.]\n",
    " [0. 0. 0. 0. 0. 0. 1. 0. 0. 0. 0. 0. 0.]\n",
    " [0. 0. 0. 1. 1. 1. 1. 1. 1. 1. 0. 0. 0.]\n",
    " [0. 0. 1. 1. 1. 1. 1. 1. 1. 1. 1. 0. 0.]\n",
    " [0. 0. 1. 1. 1. 1. 1. 1. 1. 1. 1. 0. 0.]\n",
    " [0. 0. 1. 1. 1. 1. 1. 1. 1. 1. 1. 0. 0.]\n",
    " [0. 1. 1. 1. 1. 1. 1. 1. 1. 1. 1. 1. 0.]\n",
    " [0. 0. 1. 1. 1. 1. 1. 1. 1. 1. 1. 0. 0.]\n",
    " [0. 0. 1. 1. 1. 1. 1. 1. 1. 1. 1. 0. 0.]\n",
    " [0. 0. 1. 1. 1. 1. 1. 1. 1. 1. 1. 0. 0.]\n",
    " [0. 0. 0. 1. 1. 1. 1. 1. 1. 1. 0. 0. 0.]\n",
    " [0. 0. 0. 0. 0. 0. 1. 0. 0. 0. 0. 0. 0.]\n",
    " [0. 0. 0. 0. 0. 0. 0. 0. 0. 0. 0. 0. 0.]]\n",
    "```"
   ]
  },
  {
   "cell_type": "code",
   "execution_count": null,
   "metadata": {},
   "outputs": [],
   "source": [
    "##Finish off this function\n",
    "def make_circle(radius,grid_size):\n",
    "    ##Don't forget to add a doc string\n",
    "    \n",
    "    ##Setup a sensible range for x and y, and then\n",
    "    ##meshgrid them to get coordinates\n",
    "\n",
    "    x_range = \n",
    "    y_range = \n",
    "    x_mesh, y_mesh = np.meshgrid(x_range, y_range)\n",
    "    \n",
    "    ##Make a circle array that matches the one shown above,\n",
    "    ##using x_mesh and y_mesh\n",
    "    ##This doesn't has to happen in one line\n",
    "        \n",
    "    return circle\n",
    "\n",
    "grid_size = 13\n",
    "radius = 5\n",
    "circle = make_circle(radius,grid_size)\n",
    "\n",
    "print(circle)"
   ]
  },
  {
   "cell_type": "markdown",
   "metadata": {},
   "source": [
    "## Plotting in 2D\n",
    "We made a circle, but it doesn't look great just printed out. Let's plot it in 2D! I'm going to take this opportunity to introduce some general plotting tips - read the comments, understand the code, and then run the code below to see your plot. You can use this plotting code in the future, and adapt it to your needs. There are *lots* of plotting examples online (an example is [here](https://matplotlib.org/2.0.0/examples/pylab_examples/subplots_demo.html))."
   ]
  },
  {
   "cell_type": "code",
   "execution_count": null,
   "metadata": {},
   "outputs": [],
   "source": [
    "%matplotlib inline\n",
    "import matplotlib.pyplot as plt\n",
    "\n",
    "##Make our 2D circle array\n",
    "circle = np.array([[0., 0., 0., 0., 0., 0., 0., 0., 0., 0., 0., 0., 0.],\n",
    " [0., 0., 0., 0., 0., 0., 1., 0., 0., 0., 0., 0., 0.],\n",
    " [0., 0., 0., 1., 1., 1., 1., 1., 1., 1., 0., 0., 0.],\n",
    " [0., 0., 1., 1., 1., 1., 1., 1., 1., 1., 1., 0., 0.],\n",
    " [0., 0., 1., 1., 1., 1., 1., 1., 1., 1., 1., 0., 0.],\n",
    " [0., 0., 1., 1., 1., 1., 1., 1., 1., 1., 1., 0., 0.],\n",
    " [0., 1., 1., 1., 1., 1., 1., 1., 1., 1., 1., 1., 0.],\n",
    " [0., 0., 1., 1., 1., 1., 1., 1., 1., 1., 1., 0., 0.],\n",
    " [0., 0., 1., 1., 1., 1., 1., 1., 1., 1., 1., 0., 0.],\n",
    " [0., 0., 1., 1., 1., 1., 1., 1., 1., 1., 1., 0., 0.],\n",
    " [0., 0., 0., 1., 1., 1., 1., 1., 1., 1., 0., 0., 0.],\n",
    " [0., 0., 0., 0., 0., 0., 1., 0., 0., 0., 0., 0., 0.],\n",
    " [0., 0., 0., 0., 0., 0., 0., 0., 0., 0., 0., 0., 0.]])\n",
    "\n",
    "##The imshow method plots things in 2D\n",
    "##We use the imshow method to return image\n",
    "##We can use image to plot a colorbar\n",
    "image = plt.imshow(circle)\n",
    "\n",
    "##This adds a colorbar - the colorbar\n",
    "##explains the relationship between the\n",
    "##colour scale and the values it represents\n",
    "fig.colorbar(image)\n",
    "\n",
    "plt.show()"
   ]
  },
  {
   "cell_type": "markdown",
   "metadata": {},
   "source": [
    "Sweet! That's a cool looking plot, and it only took us three lines to load the data.\n",
    "\n",
    "## <font color=blue> Exercise 3.4 <font>\n",
    "In the `Plotting` folder there is a text file `cool_image.txt`. Read in the data in this file using `np.genfromtxt`, and plot it using `ax.imshow` like the code in the previous boxes. Use the box below to write the code.\n",
    "<font color=red>Optional extension <font> - change the colour map of the plot to get a black and white plot (hint google the `cmap` keyword for `imshow`.)"
   ]
  },
  {
   "cell_type": "code",
   "execution_count": null,
   "metadata": {
    "scrolled": true
   },
   "outputs": [],
   "source": []
  },
  {
   "cell_type": "markdown",
   "metadata": {},
   "source": [
    "## FITS files\n",
    "Astronomical images are usually stored in FITS files. Before, we looked at FITS tables, which are a different variant. Here we'll look at FITS images. Opening up the FITS file and understanding the data inside can be a bit of a dark art, as different sofware leave differnet keywords in headers. There is a large amount of online documentation  [here](http://docs.astropy.org/en/stable/io/fits/index.html?highlight=FITS) to check out.\n",
    "\n",
    "Inside the `Plotting` folder you can find 'NGC_1316_I_20cm_fev1989_i.fits' which is a FITS image file. I found this FITS file by searching on the NASA/IPAC Extragalactic Database (NED - see [here](http://ned.ipac.caltech.edu/ui/?q=imageservice&objname=fornax%20A)). The image came from this research [here](http://adsabs.harvard.edu/cgi-bin/bib_query?1989ApJ...346L..17F). First off, we open the file, `print` out some information about the file, and grab some data."
   ]
  },
  {
   "cell_type": "code",
   "execution_count": null,
   "metadata": {},
   "outputs": [],
   "source": [
    "##We use the fits class inside astropy\n",
    "from astropy.io import fits\n",
    "\n",
    "with fits.open('NGC_1316_I_20cm_fev1989_i.fits') as hdus:\n",
    "    ##We use the open method in fits to read in data from\n",
    "    ##the fits file\n",
    "    print(hdus.info())\n",
    "    \n",
    "    ##Because you can have more than one hdu, hdus is actually a list\n",
    "    ##To acces the first (and only) hdu, use hdus[0]\n",
    "    hdu1 = hdus[0]\n",
    "    \n",
    "    ##The data inside hdu1 is an attribute called data\n",
    "    data = hdu1.data"
   ]
  },
  {
   "cell_type": "markdown",
   "metadata": {},
   "source": [
    "> Wait, what's up with `with`? In many other computer languages, memory is handled explicitly as part of the syntax. This is one of the notoiously difficult things in a lanugauge like `C` to get correct. `python` is lovely because is essentially does it all for you, talking to the computer automagically saying things like _\"this is a float, and it lives here, it needs this much memory\"_ etc. Unfortunately, this also means you never really know what it's doing half the time. So when opening something potentially large or complicated like a FITS file, using the `with` command here says _\"OK `python`, do your magic and open up this FITS file, and assign some parts of it to an array called `data`. Once we pop out of the indented whitespace below `with`, however, clean up after yourself, closing the `hdus` object and freeing all the memory associated with that.\"_ This is a nice, clean way of ensuring you don't have things hanging around in buffer that you don't need.\n",
    "\n",
    "OK, so there's a large of information. HDU means Header Data Unit, which is the highest level component of the FITS file structure. You can have multiple HDUs in a single FITS file - in this example we only have one. Most important here is the 'Dimensions' Column, which shows `(512, 512, 1, 1)`. This means we have data of that shape, so a 4-dimensional data set. Often FITS files come with multiple frequency slices, so even though we are going to plot a 2D image, there a 4 Dimensions to the data. So what shape is our data?"
   ]
  },
  {
   "cell_type": "code",
   "execution_count": null,
   "metadata": {},
   "outputs": [],
   "source": [
    "print(data.shape)"
   ]
  },
  {
   "cell_type": "markdown",
   "metadata": {},
   "source": [
    "Note that the dimensions of the data are reported by `astropy` in the opposite order to that in the FITS file. This is annoying but unavoidable. We can use the data `array` to do any kind of science we want with this galaxy - find the maximum brightness, the rms across the galaxy, all kinds of stuff. For now we're just going to plot it.  Now, finally, we'll pull out the relevant data and plot it with `imshow`."
   ]
  },
  {
   "cell_type": "code",
   "execution_count": null,
   "metadata": {},
   "outputs": [],
   "source": [
    "##OK, we want to plot a 2D array, so we slice data\n",
    "##to make it 2D\n",
    "slice_data = data[0,0,:,:]\n",
    "\n",
    "##Now we plot and succeed\n",
    "import matplotlib.pyplot as plt\n",
    "\n",
    "##This creates a matplotlib figure object\n",
    "##We will create our plot within this\n",
    "##The figsize let's you control how large\n",
    "##the figure is, in order (x,y)\n",
    "fig = plt.figure(figsize=(9,7))\n",
    "\n",
    "##This add an axis object - we add it to the figure\n",
    "##You can control how many subplots to add with\n",
    "##the numbers - here we want the first axis of a\n",
    "##one by one grid - so we just pass three 1s.\n",
    "ax = fig.add_subplot(111)\n",
    "\n",
    "##The imshow method plots things in 2D\n",
    "##We use the imshow method to return image\n",
    "##We can use image to plot a colorbar\n",
    "##vmin and vmax set the lower and upper\n",
    "##bounds of the colour scale\n",
    "##we add origin='lower' because numpy arrays have a zero\n",
    "##top left - FITS files have 0 bottom left, so we need\n",
    "##to flip the image\n",
    "image = ax.imshow(slice_data,vmin=0,vmax=0.025,origin='lower')\n",
    "\n",
    "##the last three commands can just be acheived \n",
    "##by the following command:\n",
    "\n",
    "##image = plt.imshow(slice_data,vmin=0,vmax=0.025,origin='lower')\n",
    "\n",
    "##From personal experience however, I find you can get\n",
    "##finer control over the final plot by explicitly\n",
    "##created the figure and axes, especially if you are plotting\n",
    "##multiple axes on the same figure. Feel free to plot\n",
    "##whichever way you want. Live your best life\n",
    "\n",
    "##This adds a colorbar - the colorbar\n",
    "##explains the relationship between the\n",
    "##colour scale and the values it represents\n",
    "##Getting in the habit of specifing which ax\n",
    "##to plot the colour\n",
    "fig.colorbar(image, ax=ax)\n",
    "\n",
    "plt.show()"
   ]
  },
  {
   "cell_type": "markdown",
   "metadata": {},
   "source": [
    "Oooooo lovely radio galaxy. Say you want to compare two images side by side, with similar plotting techniques. What's an efficient way of doing that? Define a function! Here we'll plot two simulations I ran in this work: [Shapelets paper](https://ui.adsabs.harvard.edu/abs/2020PASA...37...27L/abstract). Let's have look:"
   ]
  },
  {
   "cell_type": "code",
   "execution_count": null,
   "metadata": {
    "scrolled": true
   },
   "outputs": [],
   "source": [
    "def do_a_plot(filename, fig, ax, vmin, vmax):\n",
    "    '''\n",
    "    Given a path to a 4D FITS file (filename)\n",
    "    and a matplotlib fig and ax instance, plot\n",
    "    the contents of the FITS file with the given\n",
    "    vmin, vmax constraints\n",
    "    '''\n",
    "    with fits.open(filename) as hdu:\n",
    "        ##Before we broke accessing the hdu and slicing\n",
    "        ##the data into multiple lines to be clear. You\n",
    "        ##can actually just do it in one line!\n",
    "        slice_data = hdu[0].data[0,0,:,:]\n",
    "        \n",
    "        \n",
    "    image = ax.imshow(slice_data,vmin=vmin,vmax=vmax,origin='lower')\n",
    "    fig.colorbar(image, ax=ax)\n",
    "    \n",
    "\n",
    "##This is a handy shortcut command in matplotlib.\n",
    "##It creates a figure instance, and a number of\n",
    "##axes instaces on that figure, depending on what\n",
    "##arguments you pass. Here we say \"2 plots in the\n",
    "##horizontal, one in the vertical\". The axes are\n",
    "##returned in a list, which we call axs here\n",
    "fig, axs = plt.subplots(1,2,figsize=(11,4))\n",
    "\n",
    "\n",
    "do_a_plot('woden_VLA-ForA-MFS-image.fits', fig, axs[0], -0.05, 8.3)\n",
    "do_a_plot('woden_VLA-ForA_phase1+2-MFS-image.fits', fig, axs[1], 0.01,1.2)\n"
   ]
  },
  {
   "cell_type": "markdown",
   "metadata": {},
   "source": [
    "## <font color=blue> Exercise 3.5 </font>\n",
    "These plots are a little messy still though. The pixel labels don't really tell us much, and we don't know what units the plot is in. Furthermore, there is too much blank space around the edge. By adapting the code above, using the box below, get rid of the x/y labels, add a label that says `Jy/beam` to the colorbar (google to find the keyword needed), and modify the slice to git rid of the space around the edges. You plot should end up looking like this:\n",
    "    \n",
    "![side_by_side_FornaxA.png](side_by_side_FornaxA.png)"
   ]
  },
  {
   "cell_type": "code",
   "execution_count": null,
   "metadata": {},
   "outputs": [],
   "source": []
  },
  {
   "cell_type": "markdown",
   "metadata": {},
   "source": [
    "## `aplpy`\n",
    "\n",
    "Right, there are a million ways to make this plot look better. One of the trickiest things to do with plotting a FITS image is to correctly labels the RA and Dec axis. There is a nice package out there already, called `aplpy`, that does many of these things neatly for you (see installation notes [here](https://aplpy.github.io/install.html). It can however be difficult to get `aplpy` to play nicely with your exact version of `numpy` and `matplotlib`, so far warning in advance. Once it works however, you can make publication-quality plots with it.\n",
    "\n",
    "I've already run the code below in case you have issues installing `aplpy`. Ask your tutor for help if you run into problems. Hopefully you'll agree this plot is far clearer, more attractive, and includes the RA and Dec coordinate information. `aplpy` even managed to understand that this data is ooooold, so it's stored in `B1950` RA,Dec coords, rather than the more modern `J2000` standard we use today."
   ]
  },
  {
   "cell_type": "code",
   "execution_count": null,
   "metadata": {},
   "outputs": [],
   "source": [
    "import aplpy\n",
    "import matplotlib.pyplot as plt\n",
    "\n",
    "fig = plt.figure(figsize=(10,10))\n",
    "\n",
    "##this creates an alply axis instance which I called f\n",
    "f = aplpy.FITSFigure('NGC_1316_I_20cm_fev1989_i.fits',figure=fig)\n",
    "\n",
    "##this is kind of like imshow - it add the plot, with\n",
    "##a colour scheme of your choice\n",
    "f.show_colorscale(cmap='viridis')\n",
    "\n",
    "##this adds a grid to the plot which can be helpful\n",
    "f.add_grid()\n",
    "f.grid.set_linewidth(1.0)\n",
    "f.grid.set_linestyle('dashed')\n",
    "f.grid.set_alpha(0.3)\n",
    "f.grid.show()\n",
    "\n",
    "##fiddle the size and format of the labels to make\n",
    "##them look nice\n",
    "f.axis_labels.set_font(size=18)\n",
    "f.tick_labels.set_font(size=18)\n",
    "f.tick_labels.set_xformat('hh:mm:ss')\n",
    "f.tick_labels.set_yformat('dd:mm:ss')\n",
    "\n",
    "plt.show()\n",
    "fig.savefig(\"nice_fornaxA_plot.png\",bbox_inches='tight')\n"
   ]
  },
  {
   "attachments": {},
   "cell_type": "markdown",
   "metadata": {},
   "source": [
    "## <font color=blue> Exercise 3.6 </font>\n",
    "Adapt your side by side code above to use `aplpy` instead of `matplotlib`. This will likely involve a decent amount of googling to work out how to get multiple `aplpy.FITSFigure` onto the same figure.\n"
   ]
  },
  {
   "cell_type": "code",
   "execution_count": null,
   "metadata": {},
   "outputs": [],
   "source": []
  }
 ],
 "metadata": {
  "kernelspec": {
   "display_name": "Python 3",
   "language": "python",
   "name": "python3"
  },
  "language_info": {
   "codemirror_mode": {
    "name": "ipython",
    "version": 3
   },
   "file_extension": ".py",
   "mimetype": "text/x-python",
   "name": "python",
   "nbconvert_exporter": "python",
   "pygments_lexer": "ipython3",
   "version": "3.8.5"
  }
 },
 "nbformat": 4,
 "nbformat_minor": 2
}
